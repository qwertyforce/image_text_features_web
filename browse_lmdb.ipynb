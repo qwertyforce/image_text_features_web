{
 "cells": [
  {
   "cell_type": "code",
   "execution_count": 1,
   "metadata": {},
   "outputs": [],
   "source": [
    "import lmdb\n",
    "DB_features = lmdb.open('./data/features.lmdb',map_size=500*1_000_000) #500mb\n",
    "DB_filename_to_id = lmdb.open('./data/filename_to_id.lmdb',map_size=50*1_000_000) #50mb\n",
    "DB_id_to_filename = lmdb.open('./data/id_to_filename.lmdb',map_size=50*1_000_000) #50mb"
   ]
  },
  {
   "cell_type": "code",
   "execution_count": null,
   "metadata": {},
   "outputs": [],
   "source": [
    "with DB_features.begin(write=False, buffers=False) as txn:\n",
    "    cursor = txn.cursor()\n",
    "    for key, value in cursor:\n",
    "        print((key, value))\n",
    "print(\"====================\")\n",
    "with DB_filename_to_id.begin(write=False, buffers=False) as txn:\n",
    "    cursor = txn.cursor()\n",
    "    for key, value in cursor:\n",
    "        print((key, value))\n",
    "print(\"====================\")\n",
    "with DB_id_to_filename.begin(write=False, buffers=False) as txn:\n",
    "    cursor = txn.cursor()\n",
    "    for key, value in cursor:\n",
    "        print((key, value))"
   ]
  }
 ],
 "metadata": {
  "kernelspec": {
   "display_name": "Python 3",
   "language": "python",
   "name": "python3"
  },
  "language_info": {
   "codemirror_mode": {
    "name": "ipython",
    "version": 3
   },
   "file_extension": ".py",
   "mimetype": "text/x-python",
   "name": "python",
   "nbconvert_exporter": "python",
   "pygments_lexer": "ipython3",
   "version": "3.9.13"
  },
  "orig_nbformat": 4,
  "vscode": {
   "interpreter": {
    "hash": "1d37589d4eb4d142da20bdbebb4352afaee29589507962c05c4960916c8b7369"
   }
  }
 },
 "nbformat": 4,
 "nbformat_minor": 2
}
